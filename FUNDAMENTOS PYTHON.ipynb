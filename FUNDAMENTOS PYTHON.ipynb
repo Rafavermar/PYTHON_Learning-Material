{
 "cells": [
  {
   "cell_type": "markdown",
   "id": "8f22f5cd",
   "metadata": {
    "lang": "en"
   },
   "source": [
    "# Hello world"
   ]
  },
  {
   "cell_type": "code",
   "execution_count": 15,
   "id": "a04b6920",
   "metadata": {
    "scrolled": true
   },
   "outputs": [
    {
     "name": "stdout",
     "output_type": "stream",
     "text": [
      "Hello world!\n"
     ]
    }
   ],
   "source": [
    "# printing my first message\n",
    "print (\"Hello world!\")"
   ]
  },
  {
   "cell_type": "code",
   "execution_count": 11,
   "id": "731e51dc",
   "metadata": {},
   "outputs": [
    {
     "data": {
      "text/plain": [
       "'Hello world!'"
      ]
     },
     "execution_count": 11,
     "metadata": {},
     "output_type": "execute_result"
    }
   ],
   "source": [
    "\"Hello world!\""
   ]
  },
  {
   "cell_type": "code",
   "execution_count": 12,
   "id": "54ba9e00",
   "metadata": {},
   "outputs": [
    {
     "name": "stdout",
     "output_type": "stream",
     "text": [
      "rafa\n"
     ]
    }
   ],
   "source": [
    "# printing My name \n",
    "print (\"rafa\")"
   ]
  },
  {
   "cell_type": "code",
   "execution_count": 113,
   "id": "460fa59c",
   "metadata": {},
   "outputs": [
    {
     "name": "stdout",
     "output_type": "stream",
     "text": [
      "Collecting package metadata (current_repodata.json): ...working... done\n",
      "Solving environment: ...working... done\n",
      "\n",
      "## Package Plan ##\n",
      "\n",
      "  environment location: C:\\Users\\jrver\\anaconda3\n",
      "\n",
      "  added / updated specs:\n",
      "    - jupyter_contrib_nbextensions\n",
      "    - jupyter_nbextensions_configurator\n",
      "\n",
      "\n",
      "The following packages will be downloaded:\n",
      "\n",
      "    package                    |            build\n",
      "    ---------------------------|-----------------\n",
      "    conda-4.14.0               |   py39hcbf5309_0         1.0 MB  conda-forge\n",
      "    jupyter_contrib_core-0.4.0 |     pyhd8ed1ab_0          18 KB  conda-forge\n",
      "    jupyter_contrib_nbextensions-0.5.1|     pyhd8ed1ab_2        19.5 MB  conda-forge\n",
      "    jupyter_highlight_selected_word-0.2.0|py39hcbf5309_1005          15 KB  conda-forge\n",
      "    jupyter_latex_envs-1.4.6   |  pyhd8ed1ab_1002         735 KB  conda-forge\n",
      "    jupyter_nbextensions_configurator-0.4.1|   py39hcbf5309_2         491 KB  conda-forge\n",
      "    python_abi-3.9             |           2_cp39           4 KB  conda-forge\n",
      "    ------------------------------------------------------------\n",
      "                                           Total:        21.7 MB\n",
      "\n",
      "The following NEW packages will be INSTALLED:\n",
      "\n",
      "  jupyter_contrib_c~ conda-forge/noarch::jupyter_contrib_core-0.4.0-pyhd8ed1ab_0\n",
      "  jupyter_contrib_n~ conda-forge/noarch::jupyter_contrib_nbextensions-0.5.1-pyhd8ed1ab_2\n",
      "  jupyter_highlight~ conda-forge/win-64::jupyter_highlight_selected_word-0.2.0-py39hcbf5309_1005\n",
      "  jupyter_latex_envs conda-forge/noarch::jupyter_latex_envs-1.4.6-pyhd8ed1ab_1002\n",
      "  jupyter_nbextensi~ conda-forge/win-64::jupyter_nbextensions_configurator-0.4.1-py39hcbf5309_2\n",
      "  python_abi         conda-forge/win-64::python_abi-3.9-2_cp39\n",
      "\n",
      "The following packages will be SUPERSEDED by a higher-priority channel:\n",
      "\n",
      "  conda              pkgs/main::conda-4.14.0-py39haa95532_0 --> conda-forge::conda-4.14.0-py39hcbf5309_0\n",
      "\n",
      "\n",
      "\n",
      "Downloading and Extracting Packages\n",
      "\n",
      "jupyter_latex_envs-1 | 735 KB    |            |   0% \n",
      "jupyter_latex_envs-1 | 735 KB    | 2          |   2% \n",
      "jupyter_latex_envs-1 | 735 KB    | ########## | 100% \n",
      "jupyter_latex_envs-1 | 735 KB    | ########## | 100% \n",
      "\n",
      "jupyter_contrib_core | 18 KB     |            |   0% \n",
      "jupyter_contrib_core | 18 KB     | ########## | 100% \n",
      "jupyter_contrib_core | 18 KB     | ########## | 100% \n",
      "\n",
      "jupyter_highlight_se | 15 KB     |            |   0% \n",
      "jupyter_highlight_se | 15 KB     | ########## | 100% \n",
      "jupyter_highlight_se | 15 KB     | ########## | 100% \n",
      "\n",
      "jupyter_contrib_nbex | 19.5 MB   |            |   0% \n",
      "jupyter_contrib_nbex | 19.5 MB   | 7          |   7% \n",
      "jupyter_contrib_nbex | 19.5 MB   | #9         |  19% \n",
      "jupyter_contrib_nbex | 19.5 MB   | ####       |  41% \n",
      "jupyter_contrib_nbex | 19.5 MB   | ######3    |  63% \n",
      "jupyter_contrib_nbex | 19.5 MB   | #######9   |  80% \n",
      "jupyter_contrib_nbex | 19.5 MB   | #########5 |  95% \n",
      "jupyter_contrib_nbex | 19.5 MB   | ########## | 100% \n",
      "\n",
      "jupyter_nbextensions | 491 KB    |            |   0% \n",
      "jupyter_nbextensions | 491 KB    | 3          |   3% \n",
      "jupyter_nbextensions | 491 KB    | ####8      |  49% \n",
      "jupyter_nbextensions | 491 KB    | ########## | 100% \n",
      "jupyter_nbextensions | 491 KB    | ########## | 100% \n",
      "\n",
      "conda-4.14.0         | 1.0 MB    |            |   0% \n",
      "conda-4.14.0         | 1.0 MB    | ########## | 100% \n",
      "conda-4.14.0         | 1.0 MB    | ########## | 100% \n",
      "\n",
      "python_abi-3.9       | 4 KB      |            |   0% \n",
      "python_abi-3.9       | 4 KB      | ########## | 100% \n",
      "Preparing transaction: ...working... done\n",
      "Verifying transaction: ...working... done\n",
      "Executing transaction: ...working... \n",
      "Enabling: jupyter_nbextensions_configurator\n",
      "- Writing config: C:\\Users\\jrver\\anaconda3\\etc\\jupyter\n",
      "    - Validating...\n",
      "      jupyter_nbextensions_configurator 0.4.1 ok\n",
      "Enabling notebook nbextension nbextensions_configurator/config_menu/main...\n",
      "Enabling tree nbextension nbextensions_configurator/tree_tab/main...\n",
      "\n",
      "done\n",
      "Retrieving notices: ...working... done\n",
      "\n",
      "Note: you may need to restart the kernel to use updated packages.\n"
     ]
    }
   ],
   "source": [
    "conda install -c conda-forge jupyter_contrib_nbextensions jupyter_nbextensions_configurator"
   ]
  },
  {
   "cell_type": "code",
   "execution_count": null,
   "id": "cb123967",
   "metadata": {},
   "outputs": [],
   "source": []
  },
  {
   "cell_type": "markdown",
   "id": "cbef6715",
   "metadata": {},
   "source": [
    "# Variables"
   ]
  },
  {
   "cell_type": "code",
   "execution_count": 33,
   "id": "97de86b4",
   "metadata": {},
   "outputs": [],
   "source": [
    "message_1 = \"Estoy aprendiendo Python\""
   ]
  },
  {
   "cell_type": "code",
   "execution_count": 34,
   "id": "54fb3ed8",
   "metadata": {},
   "outputs": [
    {
     "name": "stdout",
     "output_type": "stream",
     "text": [
      "estoy aprendiendo Python\n"
     ]
    }
   ],
   "source": [
    "print (message_1)"
   ]
  },
  {
   "cell_type": "code",
   "execution_count": null,
   "id": "2385182c",
   "metadata": {},
   "outputs": [],
   "source": [
    "\"I'm learning Python\""
   ]
  },
  {
   "cell_type": "code",
   "execution_count": 35,
   "id": "8f1c403f",
   "metadata": {},
   "outputs": [],
   "source": [
    "message_2 = \"y es divertido!\""
   ]
  },
  {
   "cell_type": "code",
   "execution_count": 36,
   "id": "d0d45956",
   "metadata": {},
   "outputs": [
    {
     "name": "stdout",
     "output_type": "stream",
     "text": [
      "y es divertido!\n"
     ]
    }
   ],
   "source": [
    "print (message_2)"
   ]
  },
  {
   "cell_type": "code",
   "execution_count": 39,
   "id": "5fb403b6",
   "metadata": {},
   "outputs": [
    {
     "data": {
      "text/plain": [
       "'estoy aprendiendo Python y es divertido!'"
      ]
     },
     "execution_count": 39,
     "metadata": {},
     "output_type": "execute_result"
    }
   ],
   "source": [
    "#concatenar mensajes\n",
    "message_1 + \" \"+ message_2"
   ]
  },
  {
   "cell_type": "code",
   "execution_count": 47,
   "id": "4fb2ba88",
   "metadata": {},
   "outputs": [
    {
     "data": {
      "text/plain": [
       "'estoy aprendiendo Python y es divertido!'"
      ]
     },
     "execution_count": 47,
     "metadata": {},
     "output_type": "execute_result"
    }
   ],
   "source": [
    "#otro metodo avanzado para concatenar. ventaja se puede agregar variable\n",
    "message = f'{message_1} {message_2}'\n",
    "message"
   ]
  },
  {
   "cell_type": "markdown",
   "id": "8029ed64",
   "metadata": {},
   "source": [
    "# LISTAS"
   ]
  },
  {
   "cell_type": "code",
   "execution_count": 49,
   "id": "0185ecfc",
   "metadata": {},
   "outputs": [],
   "source": [
    "Countries = [\"United states\", \"India\", \"China\", \"Brazil\"]"
   ]
  },
  {
   "cell_type": "code",
   "execution_count": 50,
   "id": "09203b9c",
   "metadata": {},
   "outputs": [
    {
     "data": {
      "text/plain": [
       "['United states', 'India', 'China', 'Brazil']"
      ]
     },
     "execution_count": 50,
     "metadata": {},
     "output_type": "execute_result"
    }
   ],
   "source": [
    "Countries"
   ]
  },
  {
   "cell_type": "code",
   "execution_count": 52,
   "id": "3131bed8",
   "metadata": {},
   "outputs": [
    {
     "data": {
      "text/plain": [
       "'India'"
      ]
     },
     "execution_count": 52,
     "metadata": {},
     "output_type": "execute_result"
    }
   ],
   "source": [
    "Countries [1]"
   ]
  },
  {
   "cell_type": "code",
   "execution_count": 53,
   "id": "12adc32e",
   "metadata": {},
   "outputs": [
    {
     "data": {
      "text/plain": [
       "'China'"
      ]
     },
     "execution_count": 53,
     "metadata": {},
     "output_type": "execute_result"
    }
   ],
   "source": [
    "Countries [2]"
   ]
  },
  {
   "cell_type": "code",
   "execution_count": 54,
   "id": "0b4dab04",
   "metadata": {},
   "outputs": [
    {
     "data": {
      "text/plain": [
       "'Brazil'"
      ]
     },
     "execution_count": 54,
     "metadata": {},
     "output_type": "execute_result"
    }
   ],
   "source": [
    "Countries [-1]"
   ]
  },
  {
   "cell_type": "code",
   "execution_count": 55,
   "id": "f046b779",
   "metadata": {},
   "outputs": [
    {
     "data": {
      "text/plain": [
       "'United states'"
      ]
     },
     "execution_count": 55,
     "metadata": {},
     "output_type": "execute_result"
    }
   ],
   "source": [
    "Countries [-4]"
   ]
  },
  {
   "cell_type": "markdown",
   "id": "d7662bc1",
   "metadata": {},
   "source": [
    "# Slicing"
   ]
  },
  {
   "cell_type": "markdown",
   "id": "27b0e352",
   "metadata": {},
   "source": [
    "Stop sería excluyente, no estará en la lista. Index +1\n",
    "nombre_lista[start:stop]"
   ]
  },
  {
   "cell_type": "code",
   "execution_count": 56,
   "id": "c7688836",
   "metadata": {},
   "outputs": [
    {
     "data": {
      "text/plain": [
       "['United states', 'India', 'China', 'Brazil']"
      ]
     },
     "execution_count": 56,
     "metadata": {},
     "output_type": "execute_result"
    }
   ],
   "source": [
    "Countries"
   ]
  },
  {
   "cell_type": "code",
   "execution_count": 61,
   "id": "8666730b",
   "metadata": {},
   "outputs": [
    {
     "data": {
      "text/plain": [
       "['United states', 'India', 'China', 'Brazil']"
      ]
     },
     "execution_count": 61,
     "metadata": {},
     "output_type": "execute_result"
    }
   ],
   "source": [
    "Countries[0:4]"
   ]
  },
  {
   "cell_type": "code",
   "execution_count": 64,
   "id": "a85ac739",
   "metadata": {},
   "outputs": [
    {
     "data": {
      "text/plain": [
       "['India', 'China', 'Brazil']"
      ]
     },
     "execution_count": 64,
     "metadata": {},
     "output_type": "execute_result"
    }
   ],
   "source": [
    "Countries[1:]"
   ]
  },
  {
   "cell_type": "markdown",
   "id": "09945a59",
   "metadata": {},
   "source": [
    "# Operaciones y Métodos"
   ]
  },
  {
   "cell_type": "markdown",
   "id": "d8a33ee8",
   "metadata": {},
   "source": [
    "metodo append"
   ]
  },
  {
   "cell_type": "code",
   "execution_count": 65,
   "id": "7a4a05a5",
   "metadata": {},
   "outputs": [],
   "source": [
    "Countries.append (\"Canada\")"
   ]
  },
  {
   "cell_type": "code",
   "execution_count": 66,
   "id": "211508d9",
   "metadata": {},
   "outputs": [
    {
     "data": {
      "text/plain": [
       "['United states', 'India', 'China', 'Brazil', 'Canada']"
      ]
     },
     "execution_count": 66,
     "metadata": {},
     "output_type": "execute_result"
    }
   ],
   "source": [
    "Countries"
   ]
  },
  {
   "cell_type": "markdown",
   "id": "da6db420",
   "metadata": {},
   "source": [
    "Metodo insert"
   ]
  },
  {
   "cell_type": "code",
   "execution_count": 82,
   "id": "43bda5e8",
   "metadata": {},
   "outputs": [],
   "source": [
    "del Countries[0]"
   ]
  },
  {
   "cell_type": "code",
   "execution_count": 83,
   "id": "4fbaf144",
   "metadata": {},
   "outputs": [
    {
     "data": {
      "text/plain": [
       "['Argentina', 'United states', 'India', 'China', 'Brazil', 'Canada']"
      ]
     },
     "execution_count": 83,
     "metadata": {},
     "output_type": "execute_result"
    }
   ],
   "source": [
    "Countries"
   ]
  },
  {
   "cell_type": "code",
   "execution_count": 85,
   "id": "c795a5dd",
   "metadata": {},
   "outputs": [],
   "source": [
    "countries_2 = [\"UK\", \"Alemania\", \"Australia\"]"
   ]
  },
  {
   "cell_type": "code",
   "execution_count": 86,
   "id": "0e9c24c0",
   "metadata": {
    "scrolled": true
   },
   "outputs": [
    {
     "data": {
      "text/plain": [
       "['Argentina',\n",
       " 'United states',\n",
       " 'India',\n",
       " 'China',\n",
       " 'Brazil',\n",
       " 'Canada',\n",
       " 'UK',\n",
       " 'Alemania',\n",
       " 'Australia']"
      ]
     },
     "execution_count": 86,
     "metadata": {},
     "output_type": "execute_result"
    }
   ],
   "source": [
    "Countries + countries_2 "
   ]
  },
  {
   "cell_type": "markdown",
   "id": "c41738ba",
   "metadata": {},
   "source": [
    "# LISTAS ANIDADAS"
   ]
  },
  {
   "cell_type": "code",
   "execution_count": 89,
   "id": "e35e4e13",
   "metadata": {},
   "outputs": [],
   "source": [
    "nueva_lista = [Countries, countries_2]"
   ]
  },
  {
   "cell_type": "code",
   "execution_count": 90,
   "id": "26b2c105",
   "metadata": {
    "scrolled": true
   },
   "outputs": [
    {
     "data": {
      "text/plain": [
       "[['Argentina', 'United states', 'India', 'China', 'Brazil', 'Canada'],\n",
       " ['UK', 'Alemania', 'Australia']]"
      ]
     },
     "execution_count": 90,
     "metadata": {},
     "output_type": "execute_result"
    }
   ],
   "source": [
    "nueva_lista"
   ]
  },
  {
   "cell_type": "markdown",
   "id": "eca938b0",
   "metadata": {},
   "source": [
    "# ELIMINAR ELEMENTO DE LISTA"
   ]
  },
  {
   "cell_type": "code",
   "execution_count": 91,
   "id": "39d11495",
   "metadata": {},
   "outputs": [
    {
     "data": {
      "text/plain": [
       "['Argentina', 'United states', 'India', 'China', 'Brazil', 'Canada']"
      ]
     },
     "execution_count": 91,
     "metadata": {},
     "output_type": "execute_result"
    }
   ],
   "source": [
    "Countries"
   ]
  },
  {
   "cell_type": "code",
   "execution_count": 93,
   "id": "8e61ed98",
   "metadata": {},
   "outputs": [],
   "source": [
    "Countries.remove(\"Canada\")"
   ]
  },
  {
   "cell_type": "code",
   "execution_count": 94,
   "id": "4da056f3",
   "metadata": {},
   "outputs": [
    {
     "data": {
      "text/plain": [
       "['Argentina', 'United states', 'India', 'China', 'Brazil']"
      ]
     },
     "execution_count": 94,
     "metadata": {},
     "output_type": "execute_result"
    }
   ],
   "source": [
    "Countries"
   ]
  },
  {
   "cell_type": "code",
   "execution_count": 95,
   "id": "bc242d44",
   "metadata": {},
   "outputs": [
    {
     "data": {
      "text/plain": [
       "'Argentina'"
      ]
     },
     "execution_count": 95,
     "metadata": {},
     "output_type": "execute_result"
    }
   ],
   "source": [
    "Countries.pop(0)"
   ]
  },
  {
   "cell_type": "code",
   "execution_count": 96,
   "id": "447364f8",
   "metadata": {},
   "outputs": [
    {
     "data": {
      "text/plain": [
       "['United states', 'India', 'China', 'Brazil']"
      ]
     },
     "execution_count": 96,
     "metadata": {},
     "output_type": "execute_result"
    }
   ],
   "source": [
    "Countries"
   ]
  },
  {
   "cell_type": "code",
   "execution_count": 98,
   "id": "f4cc58c2",
   "metadata": {},
   "outputs": [],
   "source": [
    "del Countries[0]"
   ]
  },
  {
   "cell_type": "code",
   "execution_count": 99,
   "id": "46cdb776",
   "metadata": {},
   "outputs": [
    {
     "data": {
      "text/plain": [
       "['India', 'China', 'Brazil']"
      ]
     },
     "execution_count": 99,
     "metadata": {},
     "output_type": "execute_result"
    }
   ],
   "source": [
    "Countries"
   ]
  },
  {
   "cell_type": "markdown",
   "id": "5205e90d",
   "metadata": {},
   "source": [
    "# ORDENAR LISTAS\n",
    "Primero hay que tener lista con valores numericos"
   ]
  },
  {
   "cell_type": "code",
   "execution_count": 101,
   "id": "bd7f1097",
   "metadata": {},
   "outputs": [],
   "source": [
    "numbers = [4,3,10,7,1,2]"
   ]
  },
  {
   "cell_type": "code",
   "execution_count": 102,
   "id": "67bd0400",
   "metadata": {},
   "outputs": [
    {
     "data": {
      "text/plain": [
       "[4, 3, 10, 7, 1, 2]"
      ]
     },
     "execution_count": 102,
     "metadata": {},
     "output_type": "execute_result"
    }
   ],
   "source": [
    "numbers"
   ]
  },
  {
   "cell_type": "code",
   "execution_count": 103,
   "id": "ea97a24c",
   "metadata": {},
   "outputs": [],
   "source": [
    "numbers.sort()"
   ]
  },
  {
   "cell_type": "code",
   "execution_count": 104,
   "id": "78dd0a49",
   "metadata": {},
   "outputs": [
    {
     "data": {
      "text/plain": [
       "[1, 2, 3, 4, 7, 10]"
      ]
     },
     "execution_count": 104,
     "metadata": {},
     "output_type": "execute_result"
    }
   ],
   "source": [
    "numbers"
   ]
  },
  {
   "cell_type": "code",
   "execution_count": 106,
   "id": "cd78fa51",
   "metadata": {},
   "outputs": [],
   "source": [
    "numbers.sort(reverse=True)"
   ]
  },
  {
   "cell_type": "code",
   "execution_count": 107,
   "id": "25e8c5e8",
   "metadata": {},
   "outputs": [
    {
     "data": {
      "text/plain": [
       "[10, 7, 4, 3, 2, 1]"
      ]
     },
     "execution_count": 107,
     "metadata": {},
     "output_type": "execute_result"
    }
   ],
   "source": [
    "numbers"
   ]
  },
  {
   "cell_type": "code",
   "execution_count": 109,
   "id": "41c99c73",
   "metadata": {},
   "outputs": [],
   "source": [
    "numbers [0] = 1000"
   ]
  },
  {
   "cell_type": "code",
   "execution_count": 110,
   "id": "32a1e583",
   "metadata": {},
   "outputs": [
    {
     "data": {
      "text/plain": [
       "[1000, 7, 4, 3, 2, 1]"
      ]
     },
     "execution_count": 110,
     "metadata": {},
     "output_type": "execute_result"
    }
   ],
   "source": [
    "numbers"
   ]
  },
  {
   "cell_type": "markdown",
   "id": "b58dc0f4",
   "metadata": {},
   "source": [
    "# COPIAR UNA LISTA"
   ]
  },
  {
   "cell_type": "code",
   "execution_count": 111,
   "id": "daf47ed4",
   "metadata": {},
   "outputs": [],
   "source": [
    "nueva_lista = Countries.copy()"
   ]
  },
  {
   "cell_type": "code",
   "execution_count": 112,
   "id": "ac612992",
   "metadata": {},
   "outputs": [
    {
     "data": {
      "text/plain": [
       "['India', 'China', 'Brazil']"
      ]
     },
     "execution_count": 112,
     "metadata": {},
     "output_type": "execute_result"
    }
   ],
   "source": [
    "nueva_lista"
   ]
  },
  {
   "cell_type": "markdown",
   "id": "5c47d980",
   "metadata": {},
   "source": [
    "# EXTENSIONES Y TEMAS"
   ]
  },
  {
   "cell_type": "code",
   "execution_count": null,
   "id": "bca52c6b",
   "metadata": {},
   "outputs": [],
   "source": []
  },
  {
   "cell_type": "code",
   "execution_count": 2,
   "id": "1c215daf",
   "metadata": {
    "scrolled": true
   },
   "outputs": [
    {
     "name": "stdout",
     "output_type": "stream",
     "text": [
      "Requirement already satisfied: jupyter_contrib_nbextensions in c:\\users\\jrver\\anaconda3\\lib\\site-packages (0.5.1)\n",
      "Requirement already satisfied: ipython-genutils in c:\\users\\jrver\\anaconda3\\lib\\site-packages (from jupyter_contrib_nbextensions) (0.2.0)\n",
      "Requirement already satisfied: jupyter-contrib-core>=0.3.3 in c:\\users\\jrver\\anaconda3\\lib\\site-packages (from jupyter_contrib_nbextensions) (0.4.0)\n",
      "Requirement already satisfied: jupyter-highlight-selected-word>=0.1.1 in c:\\users\\jrver\\anaconda3\\lib\\site-packages (from jupyter_contrib_nbextensions) (0.2.0)\n",
      "Requirement already satisfied: notebook>=4.0 in c:\\users\\jrver\\anaconda3\\lib\\site-packages (from jupyter_contrib_nbextensions) (6.4.8)\n",
      "Requirement already satisfied: jupyter-nbextensions-configurator>=0.4.0 in c:\\users\\jrver\\anaconda3\\lib\\site-packages (from jupyter_contrib_nbextensions) (0.4.1)\n",
      "Requirement already satisfied: jupyter-core in c:\\users\\jrver\\anaconda3\\lib\\site-packages (from jupyter_contrib_nbextensions) (4.9.2)\n",
      "Requirement already satisfied: lxml in c:\\users\\jrver\\anaconda3\\lib\\site-packages (from jupyter_contrib_nbextensions) (4.8.0)\n",
      "Requirement already satisfied: traitlets>=4.1 in c:\\users\\jrver\\anaconda3\\lib\\site-packages (from jupyter_contrib_nbextensions) (5.1.1)\n",
      "Requirement already satisfied: pyyaml in c:\\users\\jrver\\anaconda3\\lib\\site-packages (from jupyter_contrib_nbextensions) (6.0)\n",
      "Requirement already satisfied: jupyter-latex-envs>=1.3.8 in c:\\users\\jrver\\anaconda3\\lib\\site-packages (from jupyter_contrib_nbextensions) (1.4.6)\n",
      "Requirement already satisfied: tornado in c:\\users\\jrver\\anaconda3\\lib\\site-packages (from jupyter_contrib_nbextensions) (6.1)\n",
      "Requirement already satisfied: nbconvert>=4.2 in c:\\users\\jrver\\anaconda3\\lib\\site-packages (from jupyter_contrib_nbextensions) (6.4.4)\n",
      "Requirement already satisfied: setuptools in c:\\users\\jrver\\anaconda3\\lib\\site-packages (from jupyter-contrib-core>=0.3.3->jupyter_contrib_nbextensions) (61.2.0)\n",
      "Requirement already satisfied: ipython in c:\\users\\jrver\\anaconda3\\lib\\site-packages (from jupyter-latex-envs>=1.3.8->jupyter_contrib_nbextensions) (8.2.0)\n",
      "Requirement already satisfied: nbclient<0.6.0,>=0.5.0 in c:\\users\\jrver\\anaconda3\\lib\\site-packages (from nbconvert>=4.2->jupyter_contrib_nbextensions) (0.5.13)\n",
      "Requirement already satisfied: pandocfilters>=1.4.1 in c:\\users\\jrver\\anaconda3\\lib\\site-packages (from nbconvert>=4.2->jupyter_contrib_nbextensions) (1.5.0)\n",
      "Requirement already satisfied: mistune<2,>=0.8.1 in c:\\users\\jrver\\anaconda3\\lib\\site-packages (from nbconvert>=4.2->jupyter_contrib_nbextensions) (0.8.4)\n",
      "Requirement already satisfied: beautifulsoup4 in c:\\users\\jrver\\anaconda3\\lib\\site-packages (from nbconvert>=4.2->jupyter_contrib_nbextensions) (4.11.1)\n",
      "Requirement already satisfied: pygments>=2.4.1 in c:\\users\\jrver\\anaconda3\\lib\\site-packages (from nbconvert>=4.2->jupyter_contrib_nbextensions) (2.11.2)Note: you may need to restart the kernel to use updated packages.\n",
      "Requirement already satisfied: entrypoints>=0.2.2 in c:\\users\\jrver\\anaconda3\\lib\\site-packages (from nbconvert>=4.2->jupyter_contrib_nbextensions) (0.4)\n",
      "\n",
      "Requirement already satisfied: defusedxml in c:\\users\\jrver\\anaconda3\\lib\\site-packages (from nbconvert>=4.2->jupyter_contrib_nbextensions) (0.7.1)\n",
      "Requirement already satisfied: bleach in c:\\users\\jrver\\anaconda3\\lib\\site-packages (from nbconvert>=4.2->jupyter_contrib_nbextensions) (4.1.0)\n",
      "Requirement already satisfied: jupyterlab-pygments in c:\\users\\jrver\\anaconda3\\lib\\site-packages (from nbconvert>=4.2->jupyter_contrib_nbextensions) (0.1.2)\n",
      "Requirement already satisfied: nbformat>=4.4 in c:\\users\\jrver\\anaconda3\\lib\\site-packages (from nbconvert>=4.2->jupyter_contrib_nbextensions) (5.3.0)\n",
      "Requirement already satisfied: testpath in c:\\users\\jrver\\anaconda3\\lib\\site-packages (from nbconvert>=4.2->jupyter_contrib_nbextensions) (0.5.0)\n",
      "Requirement already satisfied: jinja2>=2.4 in c:\\users\\jrver\\anaconda3\\lib\\site-packages (from nbconvert>=4.2->jupyter_contrib_nbextensions) (2.11.3)\n",
      "Requirement already satisfied: MarkupSafe>=0.23 in c:\\users\\jrver\\anaconda3\\lib\\site-packages (from jinja2>=2.4->nbconvert>=4.2->jupyter_contrib_nbextensions) (2.0.1)\n",
      "Requirement already satisfied: jupyter-client>=6.1.5 in c:\\users\\jrver\\anaconda3\\lib\\site-packages (from nbclient<0.6.0,>=0.5.0->nbconvert>=4.2->jupyter_contrib_nbextensions) (6.1.12)\n",
      "Requirement already satisfied: nest-asyncio in c:\\users\\jrver\\anaconda3\\lib\\site-packages (from nbclient<0.6.0,>=0.5.0->nbconvert>=4.2->jupyter_contrib_nbextensions) (1.5.5)\n",
      "Requirement already satisfied: pyzmq>=13 in c:\\users\\jrver\\anaconda3\\lib\\site-packages (from jupyter-client>=6.1.5->nbclient<0.6.0,>=0.5.0->nbconvert>=4.2->jupyter_contrib_nbextensions) (22.3.0)\n",
      "Requirement already satisfied: python-dateutil>=2.1 in c:\\users\\jrver\\anaconda3\\lib\\site-packages (from jupyter-client>=6.1.5->nbclient<0.6.0,>=0.5.0->nbconvert>=4.2->jupyter_contrib_nbextensions) (2.8.2)\n",
      "Requirement already satisfied: pywin32>=1.0 in c:\\users\\jrver\\anaconda3\\lib\\site-packages (from jupyter-core->jupyter_contrib_nbextensions) (302)\n",
      "Requirement already satisfied: jsonschema>=2.6 in c:\\users\\jrver\\anaconda3\\lib\\site-packages (from nbformat>=4.4->nbconvert>=4.2->jupyter_contrib_nbextensions) (4.4.0)\n",
      "Requirement already satisfied: fastjsonschema in c:\\users\\jrver\\anaconda3\\lib\\site-packages (from nbformat>=4.4->nbconvert>=4.2->jupyter_contrib_nbextensions) (2.15.1)\n",
      "Requirement already satisfied: pyrsistent!=0.17.0,!=0.17.1,!=0.17.2,>=0.14.0 in c:\\users\\jrver\\anaconda3\\lib\\site-packages (from jsonschema>=2.6->nbformat>=4.4->nbconvert>=4.2->jupyter_contrib_nbextensions) (0.18.0)\n",
      "Requirement already satisfied: attrs>=17.4.0 in c:\\users\\jrver\\anaconda3\\lib\\site-packages (from jsonschema>=2.6->nbformat>=4.4->nbconvert>=4.2->jupyter_contrib_nbextensions) (21.4.0)\n",
      "Requirement already satisfied: terminado>=0.8.3 in c:\\users\\jrver\\anaconda3\\lib\\site-packages (from notebook>=4.0->jupyter_contrib_nbextensions) (0.13.1)\n",
      "Requirement already satisfied: Send2Trash>=1.8.0 in c:\\users\\jrver\\anaconda3\\lib\\site-packages (from notebook>=4.0->jupyter_contrib_nbextensions) (1.8.0)\n",
      "Requirement already satisfied: ipykernel in c:\\users\\jrver\\anaconda3\\lib\\site-packages (from notebook>=4.0->jupyter_contrib_nbextensions) (6.9.1)\n",
      "Requirement already satisfied: argon2-cffi in c:\\users\\jrver\\anaconda3\\lib\\site-packages (from notebook>=4.0->jupyter_contrib_nbextensions) (21.3.0)\n",
      "Requirement already satisfied: prometheus-client in c:\\users\\jrver\\anaconda3\\lib\\site-packages (from notebook>=4.0->jupyter_contrib_nbextensions) (0.13.1)\n",
      "Requirement already satisfied: six>=1.5 in c:\\users\\jrver\\anaconda3\\lib\\site-packages (from python-dateutil>=2.1->jupyter-client>=6.1.5->nbclient<0.6.0,>=0.5.0->nbconvert>=4.2->jupyter_contrib_nbextensions) (1.16.0)\n",
      "Requirement already satisfied: pywinpty>=1.1.0 in c:\\users\\jrver\\anaconda3\\lib\\site-packages (from terminado>=0.8.3->notebook>=4.0->jupyter_contrib_nbextensions) (2.0.2)\n",
      "Requirement already satisfied: argon2-cffi-bindings in c:\\users\\jrver\\anaconda3\\lib\\site-packages (from argon2-cffi->notebook>=4.0->jupyter_contrib_nbextensions) (21.2.0)\n",
      "Requirement already satisfied: cffi>=1.0.1 in c:\\users\\jrver\\anaconda3\\lib\\site-packages (from argon2-cffi-bindings->argon2-cffi->notebook>=4.0->jupyter_contrib_nbextensions) (1.15.0)\n",
      "Requirement already satisfied: pycparser in c:\\users\\jrver\\anaconda3\\lib\\site-packages (from cffi>=1.0.1->argon2-cffi-bindings->argon2-cffi->notebook>=4.0->jupyter_contrib_nbextensions) (2.21)\n",
      "Requirement already satisfied: soupsieve>1.2 in c:\\users\\jrver\\anaconda3\\lib\\site-packages (from beautifulsoup4->nbconvert>=4.2->jupyter_contrib_nbextensions) (2.3.1)\n",
      "Requirement already satisfied: webencodings in c:\\users\\jrver\\anaconda3\\lib\\site-packages (from bleach->nbconvert>=4.2->jupyter_contrib_nbextensions) (0.5.1)\n",
      "Requirement already satisfied: packaging in c:\\users\\jrver\\anaconda3\\lib\\site-packages (from bleach->nbconvert>=4.2->jupyter_contrib_nbextensions) (21.3)\n",
      "Requirement already satisfied: debugpy<2.0,>=1.0.0 in c:\\users\\jrver\\anaconda3\\lib\\site-packages (from ipykernel->notebook>=4.0->jupyter_contrib_nbextensions) (1.5.1)\n",
      "Requirement already satisfied: matplotlib-inline<0.2.0,>=0.1.0 in c:\\users\\jrver\\anaconda3\\lib\\site-packages (from ipykernel->notebook>=4.0->jupyter_contrib_nbextensions) (0.1.2)\n",
      "Requirement already satisfied: colorama in c:\\users\\jrver\\anaconda3\\lib\\site-packages (from ipython->jupyter-latex-envs>=1.3.8->jupyter_contrib_nbextensions) (0.4.4)\n",
      "Requirement already satisfied: backcall in c:\\users\\jrver\\anaconda3\\lib\\site-packages (from ipython->jupyter-latex-envs>=1.3.8->jupyter_contrib_nbextensions) (0.2.0)\n",
      "Requirement already satisfied: decorator in c:\\users\\jrver\\anaconda3\\lib\\site-packages (from ipython->jupyter-latex-envs>=1.3.8->jupyter_contrib_nbextensions) (5.1.1)\n",
      "Requirement already satisfied: stack-data in c:\\users\\jrver\\anaconda3\\lib\\site-packages (from ipython->jupyter-latex-envs>=1.3.8->jupyter_contrib_nbextensions) (0.2.0)\n",
      "Requirement already satisfied: prompt-toolkit!=3.0.0,!=3.0.1,<3.1.0,>=2.0.0 in c:\\users\\jrver\\anaconda3\\lib\\site-packages (from ipython->jupyter-latex-envs>=1.3.8->jupyter_contrib_nbextensions) (3.0.20)\n",
      "Requirement already satisfied: jedi>=0.16 in c:\\users\\jrver\\anaconda3\\lib\\site-packages (from ipython->jupyter-latex-envs>=1.3.8->jupyter_contrib_nbextensions) (0.18.1)\n",
      "Requirement already satisfied: pickleshare in c:\\users\\jrver\\anaconda3\\lib\\site-packages (from ipython->jupyter-latex-envs>=1.3.8->jupyter_contrib_nbextensions) (0.7.5)\n",
      "Requirement already satisfied: parso<0.9.0,>=0.8.0 in c:\\users\\jrver\\anaconda3\\lib\\site-packages (from jedi>=0.16->ipython->jupyter-latex-envs>=1.3.8->jupyter_contrib_nbextensions) (0.8.3)\n",
      "Requirement already satisfied: wcwidth in c:\\users\\jrver\\anaconda3\\lib\\site-packages (from prompt-toolkit!=3.0.0,!=3.0.1,<3.1.0,>=2.0.0->ipython->jupyter-latex-envs>=1.3.8->jupyter_contrib_nbextensions) (0.2.5)\n",
      "Requirement already satisfied: pyparsing!=3.0.5,>=2.0.2 in c:\\users\\jrver\\anaconda3\\lib\\site-packages (from packaging->bleach->nbconvert>=4.2->jupyter_contrib_nbextensions) (3.0.4)\n",
      "Requirement already satisfied: asttokens in c:\\users\\jrver\\anaconda3\\lib\\site-packages (from stack-data->ipython->jupyter-latex-envs>=1.3.8->jupyter_contrib_nbextensions) (2.0.5)\n",
      "Requirement already satisfied: executing in c:\\users\\jrver\\anaconda3\\lib\\site-packages (from stack-data->ipython->jupyter-latex-envs>=1.3.8->jupyter_contrib_nbextensions) (0.8.3)\n",
      "Requirement already satisfied: pure-eval in c:\\users\\jrver\\anaconda3\\lib\\site-packages (from stack-data->ipython->jupyter-latex-envs>=1.3.8->jupyter_contrib_nbextensions) (0.2.2)\n"
     ]
    }
   ],
   "source": [
    "pip install jupyter_contrib_nbextensions"
   ]
  },
  {
   "cell_type": "code",
   "execution_count": 10,
   "id": "d56b03df",
   "metadata": {
    "hide_input": true
   },
   "outputs": [
    {
     "ename": "SyntaxError",
     "evalue": "invalid syntax (4020616895.py, line 1)",
     "output_type": "error",
     "traceback": [
      "\u001b[1;36m  Input \u001b[1;32mIn [10]\u001b[1;36m\u001b[0m\n\u001b[1;33m    jupyter nbextensions_configurator enable --user\u001b[0m\n\u001b[1;37m            ^\u001b[0m\n\u001b[1;31mSyntaxError\u001b[0m\u001b[1;31m:\u001b[0m invalid syntax\n"
     ]
    }
   ],
   "source": [
    "jupyter nbextensions_configurator enable --user"
   ]
  },
  {
   "cell_type": "code",
   "execution_count": 1,
   "id": "e430ddfe",
   "metadata": {
    "run_control": {
     "marked": true
    },
    "scrolled": true
   },
   "outputs": [
    {
     "name": "stdout",
     "output_type": "stream",
     "text": [
      "Available Themes: \n",
      "   chesterish\n",
      "   grade3\n",
      "   gruvboxd\n",
      "   gruvboxl\n",
      "   monokai\n",
      "   oceans16\n",
      "   onedork\n",
      "   solarizedd\n",
      "   solarizedl\n"
     ]
    }
   ],
   "source": [
    "!jt -l"
   ]
  },
  {
   "cell_type": "code",
   "execution_count": 8,
   "id": "01ea06df",
   "metadata": {
    "code_folding": []
   },
   "outputs": [],
   "source": [
    "#!jt -t oceans16 -T -N -kl"
   ]
  },
  {
   "cell_type": "code",
   "execution_count": 11,
   "id": "a403217c",
   "metadata": {
    "code_folding": []
   },
   "outputs": [],
   "source": [
    "#!jt -t gruvboxd -T -N -kl"
   ]
  },
  {
   "cell_type": "code",
   "execution_count": 13,
   "id": "02867ca3",
   "metadata": {},
   "outputs": [],
   "source": [
    "#!jt -t solarizedl -T -N -kl"
   ]
  },
  {
   "cell_type": "code",
   "execution_count": 14,
   "id": "cfb704c0",
   "metadata": {},
   "outputs": [],
   "source": [
    "#!jt -t grade3 -T -N -kl"
   ]
  },
  {
   "cell_type": "code",
   "execution_count": 16,
   "id": "10b03d97",
   "metadata": {},
   "outputs": [],
   "source": [
    "#!jt -t onedork -T -N -kl"
   ]
  },
  {
   "cell_type": "code",
   "execution_count": 17,
   "id": "1d696842",
   "metadata": {},
   "outputs": [],
   "source": [
    "!jt -t monokai -T -N -kl"
   ]
  },
  {
   "cell_type": "code",
   "execution_count": 18,
   "id": "3ed4d473",
   "metadata": {
    "code_folding": []
   },
   "outputs": [],
   "source": [
    "#!jt -t gruvboxd -T -N -kl me gusta pero letras fuertes"
   ]
  },
  {
   "cell_type": "code",
   "execution_count": 20,
   "id": "8ff6d69b",
   "metadata": {
    "code_folding": []
   },
   "outputs": [],
   "source": [
    "#!jt -t gruvboxl -T -N -kl nooo"
   ]
  },
  {
   "cell_type": "code",
   "execution_count": 21,
   "id": "67b1dca0",
   "metadata": {},
   "outputs": [],
   "source": [
    "#!jt -t chesterish -T -N -kl jein"
   ]
  },
  {
   "cell_type": "markdown",
   "id": "7d4c0016",
   "metadata": {},
   "source": [
    "# DICCIONARIOS"
   ]
  },
  {
   "cell_type": "code",
   "execution_count": null,
   "id": "38b61227",
   "metadata": {},
   "outputs": [],
   "source": [
    "mi_diccionario = {'key1':'value1', 'key2':'value2'}"
   ]
  },
  {
   "cell_type": "code",
   "execution_count": 28,
   "id": "3e17c365",
   "metadata": {},
   "outputs": [],
   "source": [
    "my_data = {'nombre': 'Rafa', 'edad':35}"
   ]
  },
  {
   "cell_type": "code",
   "execution_count": 29,
   "id": "d586d26a",
   "metadata": {},
   "outputs": [
    {
     "data": {
      "text/plain": [
       "{'nombre': 'Rafa', 'edad': 35}"
      ]
     },
     "execution_count": 29,
     "metadata": {},
     "output_type": "execute_result"
    }
   ],
   "source": [
    "my_data"
   ]
  },
  {
   "cell_type": "code",
   "execution_count": 30,
   "id": "12ee63e7",
   "metadata": {},
   "outputs": [
    {
     "data": {
      "text/plain": [
       "'Rafa'"
      ]
     },
     "execution_count": 30,
     "metadata": {},
     "output_type": "execute_result"
    }
   ],
   "source": [
    "my_data['nombre']"
   ]
  },
  {
   "cell_type": "code",
   "execution_count": 31,
   "id": "e495be0e",
   "metadata": {},
   "outputs": [
    {
     "data": {
      "text/plain": [
       "dict_keys(['nombre', 'edad'])"
      ]
     },
     "execution_count": 31,
     "metadata": {},
     "output_type": "execute_result"
    }
   ],
   "source": [
    "my_data.keys()"
   ]
  },
  {
   "cell_type": "code",
   "execution_count": 32,
   "id": "4e86eca3",
   "metadata": {},
   "outputs": [
    {
     "data": {
      "text/plain": [
       "dict_values(['Rafa', 35])"
      ]
     },
     "execution_count": 32,
     "metadata": {},
     "output_type": "execute_result"
    }
   ],
   "source": [
    "my_data.values()"
   ]
  },
  {
   "cell_type": "code",
   "execution_count": 33,
   "id": "2b46a9fa",
   "metadata": {},
   "outputs": [
    {
     "data": {
      "text/plain": [
       "dict_items([('nombre', 'Rafa'), ('edad', 35)])"
      ]
     },
     "execution_count": 33,
     "metadata": {},
     "output_type": "execute_result"
    }
   ],
   "source": [
    "my_data.items()"
   ]
  },
  {
   "cell_type": "markdown",
   "id": "7390e247",
   "metadata": {},
   "source": [
    "## Agregar elementos a un diccionario"
   ]
  },
  {
   "cell_type": "code",
   "execution_count": null,
   "id": "b8626d6a",
   "metadata": {},
   "outputs": [],
   "source": [
    "my_data = {'nombre': 'Rafa', 'edad':35}"
   ]
  },
  {
   "cell_type": "code",
   "execution_count": 36,
   "id": "3f80f7ba",
   "metadata": {},
   "outputs": [],
   "source": [
    "my_data['estatura'] = 1.8"
   ]
  },
  {
   "cell_type": "code",
   "execution_count": 42,
   "id": "de9cd476",
   "metadata": {},
   "outputs": [
    {
     "data": {
      "text/plain": [
       "{'nombre': 'Rafa', 'edad': 35, 'estatura': 1.8}"
      ]
     },
     "execution_count": 42,
     "metadata": {},
     "output_type": "execute_result"
    }
   ],
   "source": [
    "my_data"
   ]
  },
  {
   "cell_type": "code",
   "execution_count": 47,
   "id": "df0477ea",
   "metadata": {},
   "outputs": [],
   "source": [
    "my_data.update({'estatura':1.5, 'lenguajes':['Ingles', 'Aleman']})"
   ]
  },
  {
   "cell_type": "code",
   "execution_count": 48,
   "id": "19f50d24",
   "metadata": {},
   "outputs": [
    {
     "data": {
      "text/plain": [
       "{'nombre': 'Rafa',\n",
       " 'edad': 35,\n",
       " 'estatura': 1.5,\n",
       " 'lenguajes': ['Ingles', 'Aleman']}"
      ]
     },
     "execution_count": 48,
     "metadata": {},
     "output_type": "execute_result"
    }
   ],
   "source": [
    "my_data"
   ]
  },
  {
   "cell_type": "markdown",
   "id": "26ef2166",
   "metadata": {},
   "source": [
    "## Copia a un diccionario"
   ]
  },
  {
   "cell_type": "code",
   "execution_count": 46,
   "id": "c26283b2",
   "metadata": {},
   "outputs": [],
   "source": [
    "nuevo_diccionario = my_data.copy()"
   ]
  },
  {
   "cell_type": "code",
   "execution_count": 49,
   "id": "eaafebef",
   "metadata": {},
   "outputs": [
    {
     "data": {
      "text/plain": [
       "{'nombre': 'Rafa',\n",
       " 'edad': 35,\n",
       " 'estatura': 1.9,\n",
       " 'lenguajes': ['Ingles', 'Aleman']}"
      ]
     },
     "execution_count": 49,
     "metadata": {},
     "output_type": "execute_result"
    }
   ],
   "source": [
    "nuevo_diccionario"
   ]
  },
  {
   "cell_type": "markdown",
   "id": "8178a0fe",
   "metadata": {},
   "source": [
    "## Eliminar elementos en diccionario"
   ]
  },
  {
   "cell_type": "code",
   "execution_count": 50,
   "id": "3cbaeea5",
   "metadata": {},
   "outputs": [
    {
     "data": {
      "text/plain": [
       "{'nombre': 'Rafa',\n",
       " 'edad': 35,\n",
       " 'estatura': 1.5,\n",
       " 'lenguajes': ['Ingles', 'Aleman']}"
      ]
     },
     "execution_count": 50,
     "metadata": {},
     "output_type": "execute_result"
    }
   ],
   "source": [
    "my_data"
   ]
  },
  {
   "cell_type": "code",
   "execution_count": 51,
   "id": "2fdcce93",
   "metadata": {},
   "outputs": [
    {
     "data": {
      "text/plain": [
       "1.5"
      ]
     },
     "execution_count": 51,
     "metadata": {},
     "output_type": "execute_result"
    }
   ],
   "source": [
    "my_data.pop('estatura')"
   ]
  },
  {
   "cell_type": "code",
   "execution_count": 52,
   "id": "9b932a46",
   "metadata": {},
   "outputs": [
    {
     "data": {
      "text/plain": [
       "{'nombre': 'Rafa', 'edad': 35, 'lenguajes': ['Ingles', 'Aleman']}"
      ]
     },
     "execution_count": 52,
     "metadata": {},
     "output_type": "execute_result"
    }
   ],
   "source": [
    "my_data"
   ]
  },
  {
   "cell_type": "code",
   "execution_count": 53,
   "id": "be21e7b4",
   "metadata": {},
   "outputs": [],
   "source": [
    "del my_data['lenguajes']"
   ]
  },
  {
   "cell_type": "code",
   "execution_count": 23,
   "id": "7b6905bc",
   "metadata": {},
   "outputs": [
    {
     "ename": "NameError",
     "evalue": "name 'my_data' is not defined",
     "output_type": "error",
     "traceback": [
      "\u001b[1;31m---------------------------------------------------------------------------\u001b[0m",
      "\u001b[1;31mNameError\u001b[0m                                 Traceback (most recent call last)",
      "Input \u001b[1;32mIn [23]\u001b[0m, in \u001b[0;36m<cell line: 1>\u001b[1;34m()\u001b[0m\n\u001b[1;32m----> 1\u001b[0m \u001b[43mmy_data\u001b[49m\n",
      "\u001b[1;31mNameError\u001b[0m: name 'my_data' is not defined"
     ]
    }
   ],
   "source": [
    "my_data"
   ]
  },
  {
   "cell_type": "code",
   "execution_count": 55,
   "id": "8e14a28c",
   "metadata": {},
   "outputs": [],
   "source": [
    "my_data.clear()"
   ]
  },
  {
   "cell_type": "code",
   "execution_count": 56,
   "id": "79898714",
   "metadata": {},
   "outputs": [
    {
     "data": {
      "text/plain": [
       "{}"
      ]
     },
     "execution_count": 56,
     "metadata": {},
     "output_type": "execute_result"
    }
   ],
   "source": [
    "my_data"
   ]
  },
  {
   "cell_type": "markdown",
   "id": "e42f4fe5",
   "metadata": {},
   "source": [
    "# CONDICIONALES"
   ]
  },
  {
   "cell_type": "code",
   "execution_count": null,
   "id": "ecf3b3a2",
   "metadata": {},
   "outputs": [],
   "source": [
    "if <condition>:\n",
    "    <code>\n",
    "elif <condition>:\n",
    "    <code>\n",
    "...\n",
    "else:\n",
    "    <code>"
   ]
  },
  {
   "cell_type": "code",
   "execution_count": 11,
   "id": "b823de26",
   "metadata": {},
   "outputs": [
    {
     "name": "stdout",
     "output_type": "stream",
     "text": [
      "Eres mayor de edad\n"
     ]
    }
   ],
   "source": [
    "edad = 24\n",
    "if edad>=18:\n",
    "    print(\"Eres mayor de edad\")\n",
    "\n",
    "elif edad>=13:\n",
    "        print (\"Eres un adolescente\")\n",
    "else:\n",
    "        print(\"eres un menor\")"
   ]
  },
  {
   "cell_type": "code",
   "execution_count": 2,
   "id": "78e78ddf",
   "metadata": {
    "hide_input": false
   },
   "outputs": [],
   "source": [
    "Countries = [\"United states\", \"India\", \"China\", \"Brazil\"]"
   ]
  },
  {
   "cell_type": "code",
   "execution_count": 4,
   "id": "4084e1fa",
   "metadata": {},
   "outputs": [
    {
     "name": "stdout",
     "output_type": "stream",
     "text": [
      "País NO está en la lista\n"
     ]
    }
   ],
   "source": [
    "if \"Colombia\" in Countries:\n",
    "    print(\"País está en la lista\")\n",
    "else:\n",
    "    print(\"País NO está en la lista\")\n"
   ]
  },
  {
   "cell_type": "markdown",
   "id": "24f6c913",
   "metadata": {},
   "source": [
    "# BUCLE FOR"
   ]
  },
  {
   "cell_type": "markdown",
   "id": "2a1c3d35",
   "metadata": {},
   "source": [
    "Atención! en python simbolo = tiene diferentes significados\n",
    "variable=4 -> significa que una variable es igual a ese numero\n",
    " == es comparación, si pais == \"United states\", \n",
    "se lee durante el bucle IF como si 'pais' es similar a 'United states'"
   ]
  },
  {
   "cell_type": "code",
   "execution_count": null,
   "id": "362a59cf",
   "metadata": {},
   "outputs": [],
   "source": [
    "for <variable> in <list>:\n",
    "    <code>"
   ]
  },
  {
   "cell_type": "code",
   "execution_count": 19,
   "id": "38b66709",
   "metadata": {},
   "outputs": [
    {
     "name": "stdout",
     "output_type": "stream",
     "text": [
      "United states\n"
     ]
    }
   ],
   "source": [
    "for pais in Countries:\n",
    "    if pais ==\"United states\":\n",
    "        print(pais)"
   ]
  },
  {
   "cell_type": "code",
   "execution_count": 20,
   "id": "c5ab6ae3",
   "metadata": {},
   "outputs": [
    {
     "name": "stdout",
     "output_type": "stream",
     "text": [
      "0\n",
      "United states\n",
      "1\n",
      "India\n",
      "2\n",
      "China\n",
      "3\n",
      "Brazil\n"
     ]
    }
   ],
   "source": [
    "for numero, pais in enumerate(Countries):\n",
    "    print(numero)\n",
    "    print(pais)\n",
    "    "
   ]
  },
  {
   "cell_type": "markdown",
   "id": "737fb3a6",
   "metadata": {},
   "source": [
    "## Bucle FOR en un Diccionario"
   ]
  },
  {
   "cell_type": "code",
   "execution_count": null,
   "id": "ff2473ce",
   "metadata": {},
   "outputs": [],
   "source": [
    "#diccionario tiene 2 items: 'Key' y 'value'"
   ]
  },
  {
   "cell_type": "code",
   "execution_count": 24,
   "id": "0e8f74e5",
   "metadata": {},
   "outputs": [],
   "source": [
    "my_data = {'nombre': 'Rafa', 'edad':35}"
   ]
  },
  {
   "cell_type": "code",
   "execution_count": 27,
   "id": "518f36d7",
   "metadata": {},
   "outputs": [
    {
     "data": {
      "text/plain": [
       "dict_items([('nombre', 'Rafa'), ('edad', 35)])"
      ]
     },
     "execution_count": 27,
     "metadata": {},
     "output_type": "execute_result"
    }
   ],
   "source": [
    "my_data.items()"
   ]
  },
  {
   "cell_type": "code",
   "execution_count": 28,
   "id": "1e08ea22",
   "metadata": {},
   "outputs": [
    {
     "name": "stdout",
     "output_type": "stream",
     "text": [
      "nombre\n",
      "Rafa\n",
      "edad\n",
      "35\n"
     ]
    }
   ],
   "source": [
    "for key, value in my_data.items():\n",
    "    print(key)\n",
    "    print(value)"
   ]
  },
  {
   "cell_type": "markdown",
   "id": "0a7708e5",
   "metadata": {},
   "source": [
    "# FUNCIONES "
   ]
  },
  {
   "cell_type": "markdown",
   "id": "a46bbfe5",
   "metadata": {},
   "source": [
    "## Funciones pre-fabricadas o pre-existentes"
   ]
  },
  {
   "cell_type": "code",
   "execution_count": 29,
   "id": "1a106ff5",
   "metadata": {},
   "outputs": [
    {
     "data": {
      "text/plain": [
       "['United states', 'India', 'China', 'Brazil']"
      ]
     },
     "execution_count": 29,
     "metadata": {},
     "output_type": "execute_result"
    }
   ],
   "source": [
    "Countries"
   ]
  },
  {
   "cell_type": "code",
   "execution_count": 30,
   "id": "5384b5f7",
   "metadata": {},
   "outputs": [
    {
     "data": {
      "text/plain": [
       "4"
      ]
     },
     "execution_count": 30,
     "metadata": {},
     "output_type": "execute_result"
    }
   ],
   "source": [
    "len(Countries)"
   ]
  },
  {
   "cell_type": "code",
   "execution_count": 31,
   "id": "9ace19cd",
   "metadata": {},
   "outputs": [
    {
     "data": {
      "text/plain": [
       "83"
      ]
     },
     "execution_count": 31,
     "metadata": {},
     "output_type": "execute_result"
    }
   ],
   "source": [
    "max([16, 83, 32, 1, 10])"
   ]
  },
  {
   "cell_type": "code",
   "execution_count": 32,
   "id": "0e232282",
   "metadata": {},
   "outputs": [
    {
     "data": {
      "text/plain": [
       "1"
      ]
     },
     "execution_count": 32,
     "metadata": {},
     "output_type": "execute_result"
    }
   ],
   "source": [
    "min([16, 83, 32, 1, 10])"
   ]
  },
  {
   "cell_type": "code",
   "execution_count": 33,
   "id": "179dfcde",
   "metadata": {},
   "outputs": [
    {
     "data": {
      "text/plain": [
       "list"
      ]
     },
     "execution_count": 33,
     "metadata": {},
     "output_type": "execute_result"
    }
   ],
   "source": [
    "type(Countries)"
   ]
  },
  {
   "cell_type": "code",
   "execution_count": 34,
   "id": "83f483c4",
   "metadata": {},
   "outputs": [
    {
     "data": {
      "text/plain": [
       "dict"
      ]
     },
     "execution_count": 34,
     "metadata": {},
     "output_type": "execute_result"
    }
   ],
   "source": [
    "type(my_data)"
   ]
  },
  {
   "cell_type": "code",
   "execution_count": 37,
   "id": "71534fde",
   "metadata": {},
   "outputs": [
    {
     "data": {
      "text/plain": [
       "2.33"
      ]
     },
     "execution_count": 37,
     "metadata": {},
     "output_type": "execute_result"
    }
   ],
   "source": [
    "round(2.3333,2)"
   ]
  },
  {
   "cell_type": "code",
   "execution_count": 46,
   "id": "686abcd5",
   "metadata": {},
   "outputs": [
    {
     "data": {
      "text/plain": [
       "range(1, 10, 2)"
      ]
     },
     "execution_count": 46,
     "metadata": {},
     "output_type": "execute_result"
    }
   ],
   "source": [
    "range(1, 10, 2)"
   ]
  },
  {
   "cell_type": "code",
   "execution_count": 51,
   "id": "1500a279",
   "metadata": {},
   "outputs": [
    {
     "name": "stdout",
     "output_type": "stream",
     "text": [
      "1\n",
      "3\n",
      "5\n",
      "7\n",
      "9\n"
     ]
    }
   ],
   "source": [
    "for i in range(1, 10, 2):\n",
    "    print(i)"
   ]
  },
  {
   "cell_type": "markdown",
   "id": "19372a87",
   "metadata": {},
   "source": [
    "## Crear tu función"
   ]
  },
  {
   "cell_type": "code",
   "execution_count": null,
   "id": "d9aebd40",
   "metadata": {},
   "outputs": [],
   "source": [
    "def function (<params>):\n",
    "    <code>\n",
    "    return <data>"
   ]
  },
  {
   "cell_type": "code",
   "execution_count": 52,
   "id": "b9834395",
   "metadata": {},
   "outputs": [],
   "source": [
    "def sumar_numeros(a, b):\n",
    "    suma_final = a + b\n",
    "    return suma_final"
   ]
  },
  {
   "cell_type": "code",
   "execution_count": 54,
   "id": "7a5f6451",
   "metadata": {},
   "outputs": [
    {
     "data": {
      "text/plain": [
       "15"
      ]
     },
     "execution_count": 54,
     "metadata": {},
     "output_type": "execute_result"
    }
   ],
   "source": [
    "sumar_numeros(10, 5)"
   ]
  },
  {
   "cell_type": "markdown",
   "id": "a6a129de",
   "metadata": {},
   "source": [
    "cuando llamamos a una función los valores entre los parentesis los llamamos argumentos.\n",
    "Mientras que esos mismos valores dentro de la función se denominan \n",
    "!parametros!"
   ]
  },
  {
   "cell_type": "markdown",
   "id": "19cb209d",
   "metadata": {},
   "source": [
    "# MÓDULOS"
   ]
  },
  {
   "cell_type": "markdown",
   "id": "980ac736",
   "metadata": {},
   "source": [
    "contienen codigos py y pueden contener clases, funciones o codigo ejecutable"
   ]
  },
  {
   "cell_type": "markdown",
   "id": "1f0fa8d2",
   "metadata": {},
   "source": [
    "## Modulo OS "
   ]
  },
  {
   "cell_type": "markdown",
   "id": "40d9fe83",
   "metadata": {},
   "source": [
    "este modulo viene por defecto con py, tiene diferentes funciones.\n",
    "de importa primero.\n",
    "> para tener acceso a sus metodos de OS se utiliza os.getcwd"
   ]
  },
  {
   "cell_type": "code",
   "execution_count": 55,
   "id": "2d0f846c",
   "metadata": {},
   "outputs": [],
   "source": [
    "import os"
   ]
  },
  {
   "cell_type": "code",
   "execution_count": 56,
   "id": "00cc0124",
   "metadata": {},
   "outputs": [
    {
     "data": {
      "text/plain": [
       "'C:\\\\Users\\\\jrver\\\\Anaconda scripts\\\\My Course'"
      ]
     },
     "execution_count": 56,
     "metadata": {},
     "output_type": "execute_result"
    }
   ],
   "source": [
    "os.getcwd()"
   ]
  },
  {
   "cell_type": "markdown",
   "id": "1d692ebe",
   "metadata": {},
   "source": [
    "esta es la ruta donde esta mi archivo de jupyter notebook"
   ]
  },
  {
   "cell_type": "code",
   "execution_count": 57,
   "id": "fec95d3b",
   "metadata": {},
   "outputs": [
    {
     "data": {
      "text/plain": [
       "['.ipynb_checkpoints', 'Ejemplo.ipynb']"
      ]
     },
     "execution_count": 57,
     "metadata": {},
     "output_type": "execute_result"
    }
   ],
   "source": [
    "os.listdir()"
   ]
  },
  {
   "cell_type": "markdown",
   "id": "06ffb8f1",
   "metadata": {},
   "source": [
    "crear carpeta usando modulo OS"
   ]
  },
  {
   "cell_type": "code",
   "execution_count": 59,
   "id": "cdf2b99b",
   "metadata": {},
   "outputs": [],
   "source": [
    "os.makedirs(\"nueva carpeta\")"
   ]
  },
  {
   "cell_type": "code",
   "execution_count": 60,
   "id": "bd055fa1",
   "metadata": {},
   "outputs": [
    {
     "data": {
      "text/plain": [
       "['.ipynb_checkpoints', 'Ejemplo.ipynb', 'nueva carpeta']"
      ]
     },
     "execution_count": 60,
     "metadata": {},
     "output_type": "execute_result"
    }
   ],
   "source": [
    "os.listdir()"
   ]
  },
  {
   "cell_type": "markdown",
   "id": "80d02292",
   "metadata": {},
   "source": [
    "instalar librerias y modulos nos permitirá tener mayor funcionalidades en python"
   ]
  },
  {
   "cell_type": "code",
   "execution_count": 61,
   "id": "0b0f9b90",
   "metadata": {},
   "outputs": [],
   "source": [
    "os.removedirs(\"nueva carpeta\")"
   ]
  },
  {
   "cell_type": "code",
   "execution_count": 62,
   "id": "9ea9c39f",
   "metadata": {},
   "outputs": [
    {
     "data": {
      "text/plain": [
       "['.ipynb_checkpoints', 'Ejemplo.ipynb']"
      ]
     },
     "execution_count": 62,
     "metadata": {},
     "output_type": "execute_result"
    }
   ],
   "source": [
    "os.listdir()"
   ]
  }
 ],
 "metadata": {
  "hide_input": false,
  "kernelspec": {
   "display_name": "Python 3 (ipykernel)",
   "language": "python",
   "name": "python3"
  },
  "language_info": {
   "codemirror_mode": {
    "name": "ipython",
    "version": 3
   },
   "file_extension": ".py",
   "mimetype": "text/x-python",
   "name": "python",
   "nbconvert_exporter": "python",
   "pygments_lexer": "ipython3",
   "version": "3.9.12"
  },
  "nbTranslate": {
   "displayLangs": [
    "en"
   ],
   "hotkey": "alt-t",
   "langInMainMenu": true,
   "sourceLang": "en",
   "targetLang": "fr",
   "useGoogleTranslate": true
  },
  "toc": {
   "base_numbering": 1,
   "nav_menu": {},
   "number_sections": true,
   "sideBar": true,
   "skip_h1_title": false,
   "title_cell": "Table of Contents",
   "title_sidebar": "Contents",
   "toc_cell": false,
   "toc_position": {},
   "toc_section_display": true,
   "toc_window_display": false
  },
  "varInspector": {
   "cols": {
    "lenName": 16,
    "lenType": 16,
    "lenVar": 40
   },
   "kernels_config": {
    "python": {
     "delete_cmd_postfix": "",
     "delete_cmd_prefix": "del ",
     "library": "var_list.py",
     "varRefreshCmd": "print(var_dic_list())"
    },
    "r": {
     "delete_cmd_postfix": ") ",
     "delete_cmd_prefix": "rm(",
     "library": "var_list.r",
     "varRefreshCmd": "cat(var_dic_list()) "
    }
   },
   "position": {
    "height": "456.844px",
    "left": "-29px",
    "right": "20px",
    "top": "137px",
    "width": "624px"
   },
   "types_to_exclude": [
    "module",
    "function",
    "builtin_function_or_method",
    "instance",
    "_Feature"
   ],
   "window_display": false
  }
 },
 "nbformat": 4,
 "nbformat_minor": 5
}

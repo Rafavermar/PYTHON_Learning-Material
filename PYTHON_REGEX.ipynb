{
 "cells": [
  {
   "cell_type": "markdown",
   "id": "fea22e9e",
   "metadata": {},
   "source": [
    "# REGEX"
   ]
  },
  {
   "cell_type": "markdown",
   "id": "504f072c",
   "metadata": {},
   "source": [
    "## re.search / re.findall"
   ]
  },
  {
   "cell_type": "code",
   "execution_count": 1,
   "id": "316ce49f",
   "metadata": {},
   "outputs": [],
   "source": [
    "import re"
   ]
  },
  {
   "cell_type": "code",
   "execution_count": 3,
   "id": "3b9a1072",
   "metadata": {},
   "outputs": [],
   "source": [
    "texto = '''Hola Mundo.\n",
    "Me gusta Python!!!!!\n",
    "Mi primer numero de la suerte es 987-654-321\n",
    "Mi segundo numero de la suerte es 876-543-210\n",
    "Mi tercer numero de la suerte es 765-432-100\n",
    "Mi cuarto numero de la suerte es 123-456-123-123'''"
   ]
  },
  {
   "cell_type": "code",
   "execution_count": 4,
   "id": "581a5129",
   "metadata": {},
   "outputs": [
    {
     "name": "stdout",
     "output_type": "stream",
     "text": [
      "<re.Match object; span=(66, 67), match='9'>\n"
     ]
    }
   ],
   "source": [
    "# buscar el primer emparejamiento\n",
    "print(re.search(r'\\d', texto))"
   ]
  },
  {
   "cell_type": "code",
   "execution_count": 6,
   "id": "73e8cce8",
   "metadata": {},
   "outputs": [
    {
     "name": "stdout",
     "output_type": "stream",
     "text": [
      "['9', '8', '7', '6', '5', '4', '3', '2', '1', '8', '7', '6', '5', '4', '3', '2', '1', '0', '7', '6', '5', '4', '3', '2', '1', '0', '0', '1', '2', '3', '4', '5', '6', '1', '2', '3', '1', '2', '3']\n"
     ]
    }
   ],
   "source": [
    "# buscar todos los emparejamientos\n",
    "print(re.findall(r'\\d', texto))"
   ]
  },
  {
   "cell_type": "code",
   "execution_count": null,
   "id": "5e2e33cf",
   "metadata": {
    "hide_input": false
   },
   "outputs": [],
   "source": [
    "# para buscar rápidamente utilizando cualquier expresión regular a través de los metacaracteres \n",
    "# podemos utilizar la siguiente pagina web: \n",
    "# https://regex101.com/"
   ]
  },
  {
   "cell_type": "code",
   "execution_count": 9,
   "id": "c6dd5f51",
   "metadata": {},
   "outputs": [
    {
     "name": "stdout",
     "output_type": "stream",
     "text": [
      "None\n"
     ]
    }
   ],
   "source": [
    "# En Python la cadena de texto escrita se interpreta como una cadena continua,\n",
    "# por lo tanto las funciones REGEX no va a detectar el inicio y fin de cada linea escrita.\n",
    "# para eso debemos realizar la siguiente sintaxis\n",
    "# El el siguiente código se ejecuta búsqueda de un string que termine por 'Mundo.'. \n",
    "    # esta búsqueda parece tener sentido, pues una linea termina de este modo. \n",
    "print(re.search(r'Mundo.$', texto))"
   ]
  },
  {
   "cell_type": "code",
   "execution_count": 10,
   "id": "77ede882",
   "metadata": {},
   "outputs": [
    {
     "name": "stdout",
     "output_type": "stream",
     "text": [
      "<re.Match object; span=(5, 11), match='Mundo.'>\n"
     ]
    }
   ],
   "source": [
    "# sin embargo para indicar a python que trate cada linea como una cadena de texto con inicio y fin\n",
    "    # y de esta manera realizar la búsqueda que queremos debemo añadir \"flags=re.M\"\n",
    "    # flags=re.M == Multilinea, tambien se puede ver nombrado como \"gm\"(global multiline)\n",
    "\n",
    "print(re.search(r'Mundo.$', texto, flags=re.M))\n"
   ]
  },
  {
   "cell_type": "code",
   "execution_count": null,
   "id": "93dc8fa9",
   "metadata": {},
   "outputs": [],
   "source": [
    "Metacaracteres:\n",
    "\\d      - Digitos (0-9)\n",
    "\\D      - No digitos (0-9)\n",
    "\\w      - Caracter de palabra (a-z, A-Z, 0-9, _)\n",
    "\\W      - No caracter de palabra\n",
    "\\s      - Espacio en blanco (espacio, tab, nueva linea)\n",
    "\\S      - No espacio en blanco (espacio, tab, nueva linea)\n",
    ".       - Cualquier caracter excepto nueva linea (codicioso - greedy)\n",
    "\\       - Cancela caracteres especiales\n",
    "\n",
    "^       - Inicio de una cadena de caracteres (string)\n",
    "$       - Fin de una cadena de caracteres\n",
    "\n",
    "\n",
    "------------------\n",
    "English\n",
    "-------------------\n",
    "\n",
    "\\d      - Digit (0-9)\n",
    "\\D      - No digits (0-9)\n",
    "\\w      - Word Character (a-z, A-Z, 0-9, _)\n",
    "\\W      - Not a Word Character\n",
    "\\s      - Whitespace (space, tab, new line)\n",
    "\\S      - No Whitespace (space, tab, new line)\n",
    ".       - Any character except new line (greedy)\n",
    "\\       - Ignores any special character\n",
    "\n",
    "^       - Beginning of a string\n",
    "$       - End of a string"
   ]
  },
  {
   "cell_type": "markdown",
   "id": "cd4f9ea8",
   "metadata": {},
   "source": [
    "## REX lazy / greedy / quantifiers"
   ]
  },
  {
   "cell_type": "code",
   "execution_count": null,
   "id": "5af6b0f8",
   "metadata": {},
   "outputs": [],
   "source": [
    "\n",
    "\n",
    "\n",
    "Cuantificadores:\n",
    "*       - 0 o más (codicioso - greedy)\n",
    "+       - 1 o más (codicioso - greedy)\n",
    "?       - 0 or 1 (perezoso - lazy)\n",
    "{3}     - Numero exacto\n",
    "{n,}    - Numero n+\n",
    "{3,4}   - Rango de números (Minimo, Maximo)\n",
    "\n",
    "( )     - Grupos\n",
    "[]      - Encuentra caracteres en corchetes\n",
    "[^ ]    - Encuentra caracteres que no están dentro de corchetes\n",
    "|       - Condicional O\n",
    "\n",
    "\\b      - Limite de palabra\n",
    "\\B      - No limite de palabra\n",
    "\n",
    "\\1      - Referencias\n",
    "\n",
    "------------------\n",
    "English\n",
    "-------------------\n",
    "\n",
    "Quantifiers:\n",
    "*       - 0 or more (greedy)\n",
    "+       - 1 or more (greedy)\n",
    "?       - 0 or 1 (lazy)\n",
    "{3}     - Exact number\n",
    "{n,}    - More than n characters\n",
    "{3,4}   - Range of numbers (Min, Max)\n",
    "\n",
    "( )     - Group\n",
    "[]      - Matches characters in brackets\n",
    "[^ ]    - Matches characters not in brackets\n",
    "|       - Or\n",
    "\n",
    "\\b      - Word boundary\n",
    "\\B      - No word boundary\n",
    "\n",
    "\\1      - Reference"
   ]
  },
  {
   "cell_type": "markdown",
   "id": "2b8296ea",
   "metadata": {},
   "source": [
    "## Flags"
   ]
  },
  {
   "cell_type": "code",
   "execution_count": null,
   "id": "7fec1840",
   "metadata": {},
   "outputs": [],
   "source": [
    "# existen diferentes tipos de flags. \n",
    "# ya hemos visto \"flags=re.M\" == Multilinea"
   ]
  },
  {
   "cell_type": "code",
   "execution_count": 12,
   "id": "879b1c53",
   "metadata": {},
   "outputs": [
    {
     "name": "stdout",
     "output_type": "stream",
     "text": [
      "<re.Match object; span=(0, 4), match='Hola'>\n"
     ]
    }
   ],
   "source": [
    "# Pero existen otros como re.I (ignore Case), que ignora las mayusculas y minusculas\n",
    "print(re.search(r'^hola', texto, flags=re.I ))"
   ]
  },
  {
   "cell_type": "markdown",
   "id": "5c2a46ed",
   "metadata": {},
   "source": [
    "### Exercises"
   ]
  },
  {
   "cell_type": "code",
   "execution_count": 14,
   "id": "65feafa1",
   "metadata": {},
   "outputs": [
    {
     "name": "stdout",
     "output_type": "stream",
     "text": [
      "15\n"
     ]
    }
   ],
   "source": [
    "# 1 Matches de puntos (.)\n",
    "print(len(re.findall(r'[^\\w\\s]', texto)))"
   ]
  },
  {
   "cell_type": "code",
   "execution_count": 16,
   "id": "0e0a5499",
   "metadata": {},
   "outputs": [
    {
     "name": "stdout",
     "output_type": "stream",
     "text": [
      "['13-04-2021']\n"
     ]
    }
   ],
   "source": [
    "# 2 Validar una fecha\n",
    "# aplicamos una regex que encuentre una fecha, la cual tenga el siguiente formato:\n",
    "# dos digitos - dos digitos - cuatro digitos\n",
    "texto = '''\n",
    "13-04-2021\n",
    "2021-13-04\n",
    "2021-04-13\n",
    "'''\n",
    "print(re.findall(r'\\d{2}-\\d{2}-\\d{4}', texto))"
   ]
  },
  {
   "cell_type": "code",
   "execution_count": 20,
   "id": "c7631190",
   "metadata": {},
   "outputs": [
    {
     "name": "stdout",
     "output_type": "stream",
     "text": [
      "['usuario10']\n"
     ]
    }
   ],
   "source": [
    "# 3 Validar un nombre de usuario\n",
    "    # las condiicones son que contenga de 4 a 14 caracteres\n",
    "    # solo numeros o letras\n",
    "texto = '''\n",
    "usuario10\n",
    "abc\n",
    "10\n",
    "'''\n",
    "\n",
    "print(re.findall(r'[a-z0-9]{4,14}', texto))"
   ]
  },
  {
   "cell_type": "code",
   "execution_count": null,
   "id": "7e397300",
   "metadata": {},
   "outputs": [],
   "source": []
  }
 ],
 "metadata": {
  "hide_input": false,
  "kernelspec": {
   "display_name": "Python 3 (ipykernel)",
   "language": "python",
   "name": "python3"
  },
  "language_info": {
   "codemirror_mode": {
    "name": "ipython",
    "version": 3
   },
   "file_extension": ".py",
   "mimetype": "text/x-python",
   "name": "python",
   "nbconvert_exporter": "python",
   "pygments_lexer": "ipython3",
   "version": "3.9.12"
  },
  "nbTranslate": {
   "displayLangs": [
    "*"
   ],
   "hotkey": "alt-t",
   "langInMainMenu": true,
   "sourceLang": "en",
   "targetLang": "fr",
   "useGoogleTranslate": true
  },
  "toc": {
   "base_numbering": 1,
   "nav_menu": {},
   "number_sections": true,
   "sideBar": true,
   "skip_h1_title": false,
   "title_cell": "Table of Contents",
   "title_sidebar": "Contents",
   "toc_cell": false,
   "toc_position": {},
   "toc_section_display": true,
   "toc_window_display": true
  },
  "varInspector": {
   "cols": {
    "lenName": 16,
    "lenType": 16,
    "lenVar": 40
   },
   "kernels_config": {
    "python": {
     "delete_cmd_postfix": "",
     "delete_cmd_prefix": "del ",
     "library": "var_list.py",
     "varRefreshCmd": "print(var_dic_list())"
    },
    "r": {
     "delete_cmd_postfix": ") ",
     "delete_cmd_prefix": "rm(",
     "library": "var_list.r",
     "varRefreshCmd": "cat(var_dic_list()) "
    }
   },
   "oldHeight": 122.851834,
   "position": {
    "height": "144.831px",
    "left": "1229px",
    "right": "20px",
    "top": "121px",
    "width": "350px"
   },
   "types_to_exclude": [
    "module",
    "function",
    "builtin_function_or_method",
    "instance",
    "_Feature"
   ],
   "varInspector_section_display": "block",
   "window_display": false
  }
 },
 "nbformat": 4,
 "nbformat_minor": 5
}
